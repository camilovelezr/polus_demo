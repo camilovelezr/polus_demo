{
 "cells": [
  {
   "cell_type": "markdown",
   "id": "6d6203ee",
   "metadata": {},
   "source": [
    "# New Environment, same storage directory"
   ]
  },
  {
   "cell_type": "code",
   "execution_count": 1,
   "id": "0e3acc86",
   "metadata": {},
   "outputs": [],
   "source": [
    "from polus.data import Collection, collections"
   ]
  },
  {
   "cell_type": "code",
   "execution_count": 2,
   "id": "2fe47ee8",
   "metadata": {},
   "outputs": [
    {
     "data": {
      "text/plain": [
       "['BBBC004',\n",
       " 'BBBC010',\n",
       " 'BBBC033',\n",
       " 'BBBC039',\n",
       " 'Hansen2019Iowa',\n",
       " 'MaricRatBrain2019',\n",
       " 'Mark2021NF-kB',\n",
       " 'Nadia2017ImportTest',\n",
       " 'SchaubHotaling2020Features',\n",
       " 'Schwendy',\n",
       " 'TissueNet',\n",
       " 'Ty2016Fillipin',\n",
       " 'Ty2017Alpha1',\n",
       " 'Ty2017ERDislocation',\n",
       " 'Ty2018EOSKNkinome',\n",
       " 'Ty2018Transomic',\n",
       " 'sod']"
      ]
     },
     "execution_count": 2,
     "metadata": {},
     "output_type": "execute_result"
    }
   ],
   "source": [
    "collections.list"
   ]
  },
  {
   "cell_type": "code",
   "execution_count": 3,
   "id": "29a73e4a",
   "metadata": {},
   "outputs": [
    {
     "name": "stderr",
     "output_type": "stream",
     "text": [
      "18-Feb-22 14:09:12 - polus.data - WARNING - The dataset MaricRatBrain2019/standard/intensity has not been fetched, so a string will be returned instead of a FilePattern object.\n",
      "18-Feb-22 14:09:12 - polus.data - WARNING - The dataset MaricRatBrain2019/fovs/intensity has not been fetched, so a string will be returned instead of a FilePattern object.\n"
     ]
    },
    {
     "data": {
      "text/plain": [
       "<polus.data.Collection at 0x7f7d2848d0d0>"
      ]
     },
     "execution_count": 3,
     "metadata": {},
     "output_type": "execute_result"
    }
   ],
   "source": [
    "Collection(\"MaricRatBrain2019\")"
   ]
  },
  {
   "cell_type": "code",
   "execution_count": null,
   "id": "f55e7ed1",
   "metadata": {},
   "outputs": [],
   "source": []
  }
 ],
 "metadata": {
  "kernelspec": {
   "display_name": "newenv",
   "language": "python",
   "name": "newenv"
  },
  "language_info": {
   "codemirror_mode": {
    "name": "ipython",
    "version": 3
   },
   "file_extension": ".py",
   "mimetype": "text/x-python",
   "name": "python",
   "nbconvert_exporter": "python",
   "pygments_lexer": "ipython3",
   "version": "3.9.7"
  }
 },
 "nbformat": 4,
 "nbformat_minor": 5
}
