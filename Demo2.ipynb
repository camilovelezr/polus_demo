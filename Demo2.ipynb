{
 "cells": [
  {
   "cell_type": "code",
   "execution_count": 1,
   "id": "af5289d7",
   "metadata": {},
   "outputs": [],
   "source": [
    "from polus.data import collections\n",
    "import polus.plugins\n",
    "from polus.plugins import plugins"
   ]
  },
  {
   "cell_type": "code",
   "execution_count": 2,
   "id": "b05e3481",
   "metadata": {},
   "outputs": [],
   "source": [
    "# pl.update_polus_plugins(\"ghp_QrFtldG9jyO7QrNO9GsZg08wJw1\")"
   ]
  },
  {
   "cell_type": "markdown",
   "id": "3144f8df",
   "metadata": {},
   "source": [
    "## `plugins.refresh()` = Scan local plugins"
   ]
  },
  {
   "cell_type": "code",
   "execution_count": 3,
   "id": "bef88a8a",
   "metadata": {},
   "outputs": [],
   "source": [
    "plugins.refresh() # NO output"
   ]
  },
  {
   "cell_type": "markdown",
   "id": "cbca7bc3",
   "metadata": {},
   "source": [
    "## `plugins.list` = List local plugins"
   ]
  },
  {
   "cell_type": "code",
   "execution_count": 4,
   "id": "d22d6776",
   "metadata": {},
   "outputs": [
    {
     "data": {
      "text/plain": [
       "['AicsClassicSegmentationPlugin',\n",
       " 'BasicFlatfieldCorrectionPlugin',\n",
       " 'BleedThroughEstimationPlugin',\n",
       " 'CellNucleiSegmentation',\n",
       " 'ColorPyramidBuilder',\n",
       " 'CsvCollectionsMerger',\n",
       " 'FcsToCsvFileConverter',\n",
       " 'FeatureExtraction',\n",
       " 'FeatureHeatmapPyramid',\n",
       " 'FeatureSubsetting',\n",
       " 'GenericDataToImageCollection',\n",
       " 'HdbscanClustering',\n",
       " 'ImageClusterAnnotation',\n",
       " 'ImagenetModelFeaturization',\n",
       " 'ImarisParser',\n",
       " 'KMeansClustering',\n",
       " 'LabelToVector',\n",
       " 'MultichannelTiff',\n",
       " 'NotebookExecutorCsvCsv',\n",
       " 'NotebookExecutorImageCsv',\n",
       " 'NotebookExecutorImageImage',\n",
       " 'ObjectSpectralFeaturization',\n",
       " 'OmeTiledTiffConverter',\n",
       " 'OmeZarrConverter',\n",
       " 'OutlierRemoval',\n",
       " 'PolusCziExtractionPlugin',\n",
       " 'PolusPrecomputeSlidePlugin',\n",
       " 'PolusPrecomputeVolumePlugin',\n",
       " 'RecycleStitchingVectorPlugin',\n",
       " 'StitchingVectorMerger',\n",
       " 'SubsetData',\n",
       " 'TabularToFeather',\n",
       " 'VectorToLabel',\n",
       " 'Zo1BorderSegmentation']"
      ]
     },
     "execution_count": 4,
     "metadata": {},
     "output_type": "execute_result"
    }
   ],
   "source": [
    "plugins.list"
   ]
  },
  {
   "cell_type": "markdown",
   "id": "10800825",
   "metadata": {},
   "source": [
    "## Select a plugin"
   ]
  },
  {
   "cell_type": "code",
   "execution_count": 5,
   "id": "36c705fe",
   "metadata": {},
   "outputs": [],
   "source": [
    "bf = plugins.BasicFlatfieldCorrectionPlugin"
   ]
  },
  {
   "cell_type": "markdown",
   "id": "d1de08ca",
   "metadata": {},
   "source": [
    "## See inputs and outputs"
   ]
  },
  {
   "cell_type": "code",
   "execution_count": 6,
   "id": "5c4b2a38",
   "metadata": {},
   "outputs": [
    {
     "data": {
      "text/plain": [
       "[Input(type=<InputTypes.collection: 'collection'>, options=None, value=None, id=None, name='inpDir', description='Input image collection.', required=True),\n",
       " Input(type=<InputTypes.string: 'string'>, options=None, value=None, id=None, name='filePattern', description='Filename pattern used to separate images by channel, timepoint, and replicate.', required=True),\n",
       " Input(type=<InputTypes.boolean: 'boolean'>, options=None, value=None, id=None, name='darkfield', description='Calculate darkfield image.', required=True),\n",
       " Input(type=<InputTypes.boolean: 'boolean'>, options=None, value=None, id=None, name='photobleach', description='Calculate photobleaching offsets.', required=True),\n",
       " Input(type=<InputTypes.string: 'string'>, options=None, value=None, id=None, name='groupBy', description='Group images together for flatfield by variable.', required=False)]"
      ]
     },
     "execution_count": 6,
     "metadata": {},
     "output_type": "execute_result"
    }
   ],
   "source": [
    "bf.inputs"
   ]
  },
  {
   "cell_type": "code",
   "execution_count": 7,
   "id": "fb267f22",
   "metadata": {},
   "outputs": [
    {
     "data": {
      "text/plain": [
       "[Output(type=<OutputTypes.collection: 'collection'>, options=None, value=None, id=None, name='outDir', description='Output data for the plugin')]"
      ]
     },
     "execution_count": 7,
     "metadata": {},
     "output_type": "execute_result"
    }
   ],
   "source": [
    "bf.outputs"
   ]
  },
  {
   "cell_type": "markdown",
   "id": "3a04ae49",
   "metadata": {},
   "source": [
    "## Setting Values of I/O"
   ]
  },
  {
   "cell_type": "code",
   "execution_count": 8,
   "id": "3baa46c3",
   "metadata": {},
   "outputs": [],
   "source": [
    "bf.inpDir = \"/home/ec2-user/data/inputs\""
   ]
  },
  {
   "cell_type": "code",
   "execution_count": 9,
   "id": "4d35f0f5",
   "metadata": {},
   "outputs": [],
   "source": [
    "# bf.filePattern = ?"
   ]
  },
  {
   "cell_type": "markdown",
   "id": "85fab28f",
   "metadata": {},
   "source": [
    "### Getting the `FilePattern` from `polus-data`"
   ]
  },
  {
   "cell_type": "code",
   "execution_count": 10,
   "id": "568afc7c",
   "metadata": {},
   "outputs": [],
   "source": [
    "data = collections.MaricRatBrain2019"
   ]
  },
  {
   "cell_type": "code",
   "execution_count": 11,
   "id": "a5b12cb8",
   "metadata": {},
   "outputs": [
    {
     "data": {
      "text/plain": [
       "{'all': <filepattern.classes.FilePattern at 0x7f9c136c7340>,\n",
       " 'DAPI': <filepattern.classes.FilePattern at 0x7f9c136c7130>,\n",
       " 'phase-contrast': <filepattern.classes.FilePattern at 0x7f9c13710ca0>}"
      ]
     },
     "execution_count": 11,
     "metadata": {},
     "output_type": "execute_result"
    }
   ],
   "source": [
    "data.subset.intensity.patterns"
   ]
  },
  {
   "cell_type": "code",
   "execution_count": 12,
   "id": "28a61ea4",
   "metadata": {},
   "outputs": [],
   "source": [
    "bf.filePattern = data.subset.intensity.patterns['all'].pattern"
   ]
  },
  {
   "cell_type": "code",
   "execution_count": 13,
   "id": "174d7924",
   "metadata": {},
   "outputs": [],
   "source": [
    "bf.darkfield = True"
   ]
  },
  {
   "cell_type": "code",
   "execution_count": 14,
   "id": "584e2e76",
   "metadata": {},
   "outputs": [],
   "source": [
    "bf.photobleach = False"
   ]
  },
  {
   "cell_type": "code",
   "execution_count": 15,
   "id": "c34f3135",
   "metadata": {},
   "outputs": [
    {
     "data": {
      "text/plain": [
       "[Input(type=<InputTypes.collection: 'collection'>, options=None, value=PosixPath('/home/ec2-user/data/inputs'), id=None, name='inpDir', description='Input image collection.', required=True),\n",
       " Input(type=<InputTypes.string: 'string'>, options=None, value='S1_R{r}_C1-C11_A1_y0{yy}_x0{xx}_c0{cc}.ome.tif', id=None, name='filePattern', description='Filename pattern used to separate images by channel, timepoint, and replicate.', required=True),\n",
       " Input(type=<InputTypes.boolean: 'boolean'>, options=None, value=True, id=None, name='darkfield', description='Calculate darkfield image.', required=True),\n",
       " Input(type=<InputTypes.boolean: 'boolean'>, options=None, value=False, id=None, name='photobleach', description='Calculate photobleaching offsets.', required=True),\n",
       " Input(type=<InputTypes.string: 'string'>, options=None, value=None, id=None, name='groupBy', description='Group images together for flatfield by variable.', required=False)]"
      ]
     },
     "execution_count": 15,
     "metadata": {},
     "output_type": "execute_result"
    }
   ],
   "source": [
    "bf.inputs"
   ]
  },
  {
   "cell_type": "code",
   "execution_count": 16,
   "id": "8fd16acf",
   "metadata": {},
   "outputs": [],
   "source": [
    "bf.outDir = \"/home/ec2-user/data/outputs\""
   ]
  },
  {
   "cell_type": "code",
   "execution_count": 17,
   "id": "c6924a73",
   "metadata": {},
   "outputs": [
    {
     "data": {
      "text/plain": [
       "[Output(type=<OutputTypes.collection: 'collection'>, options=None, value=PosixPath('/home/ec2-user/data/outputs'), id=None, name='outDir', description='Output data for the plugin')]"
      ]
     },
     "execution_count": 17,
     "metadata": {},
     "output_type": "execute_result"
    }
   ],
   "source": [
    "bf.outputs"
   ]
  },
  {
   "cell_type": "markdown",
   "id": "2350bb91",
   "metadata": {},
   "source": [
    "## Running Plugin"
   ]
  },
  {
   "cell_type": "code",
   "execution_count": 18,
   "id": "f5ce9fd2",
   "metadata": {},
   "outputs": [
    {
     "name": "stderr",
     "output_type": "stream",
     "text": [
      "11-Mar-22 17:59:11 - polus.plugins - INFO - Running container without GPU. BasicFlatfieldCorrectionPlugin version 1.2.6\n",
      "11-Mar-22 17:59:12 - main - INFO - Parsing arguments...\n",
      "11-Mar-22 17:59:12 - main - INFO - input_dir = /data/inputs/input0\n",
      "11-Mar-22 17:59:12 - main - INFO - get_darkfield = True\n",
      "11-Mar-22 17:59:12 - main - INFO - get_photobleach = False\n",
      "11-Mar-22 17:59:12 - main - INFO - file_pattern = S1_R{r}_C1-C11_A1_y0{yy}_x0{xx}_c0{cc}.ome.tif\n",
      "11-Mar-22 17:59:12 - main - INFO - output_dir = /data/outputs/output0/images\n",
      "11-Mar-22 17:59:12 - proc 1 - INFO - S1_R1_C1-C11_A1_y005_x010_c000.ome.tif: Loading and sorting images...\n",
      "11-Mar-22 17:59:12 - proc 1 - INFO - S1_R1_C1-C11_A1_y005_x010_c000.ome.tif: Beginning flatfield estimation\n",
      "/usr/local/lib/python3.9/dist-packages/numpy/core/fromnumeric.py:3440: RuntimeWarning: Mean of empty slice.\n",
      "  return _methods._mean(a, axis=axis, dtype=dtype,\n",
      "/usr/local/lib/python3.9/dist-packages/numpy/core/_methods.py:181: RuntimeWarning: invalid value encountered in true_divide\n",
      "  ret = um.true_divide(\n",
      "/usr/local/lib/python3.9/dist-packages/numpy/core/_methods.py:189: RuntimeWarning: invalid value encountered in double_scalars\n",
      "  ret = ret.dtype.type(ret / rcount)\n",
      "11-Mar-22 17:59:14 - proc 1 - INFO - S1_R1_C1-C11_A1_y005_x010_c000.ome.tif: Iteration 1 loss: nan\n",
      "11-Mar-22 17:59:16 - proc 1 - INFO - S1_R1_C1-C11_A1_y005_x010_c000.ome.tif: Iteration 2 loss: nan\n",
      "11-Mar-22 17:59:18 - proc 1 - INFO - S1_R1_C1-C11_A1_y005_x010_c000.ome.tif: Iteration 3 loss: nan\n",
      "11-Mar-22 17:59:19 - proc 1 - INFO - S1_R1_C1-C11_A1_y005_x010_c000.ome.tif: Iteration 4 loss: nan\n",
      "11-Mar-22 17:59:21 - proc 1 - INFO - S1_R1_C1-C11_A1_y005_x010_c000.ome.tif: Iteration 5 loss: nan\n",
      "11-Mar-22 17:59:23 - proc 1 - INFO - S1_R1_C1-C11_A1_y005_x010_c000.ome.tif: Iteration 6 loss: nan\n",
      "11-Mar-22 17:59:25 - proc 1 - INFO - S1_R1_C1-C11_A1_y005_x010_c000.ome.tif: Iteration 7 loss: nan\n",
      "11-Mar-22 17:59:26 - proc 1 - INFO - S1_R1_C1-C11_A1_y005_x010_c000.ome.tif: Iteration 8 loss: nan\n",
      "11-Mar-22 17:59:28 - proc 1 - INFO - S1_R1_C1-C11_A1_y005_x010_c000.ome.tif: Iteration 9 loss: nan\n",
      "11-Mar-22 17:59:30 - proc 1 - INFO - S1_R1_C1-C11_A1_y005_x010_c000.ome.tif: Iteration 10 loss: nan\n",
      "11-Mar-22 17:59:30 - proc 1 - INFO - S1_R1_C1-C11_A1_y005_x010_c000.ome.tif: Saving outputs...\n",
      "11-Mar-22 17:59:30 - proc 1 - INFO - S1_R1_C1-C11_A1_y007_x011_c000.ome.tif: Loading and sorting images...\n",
      "11-Mar-22 17:59:31 - proc 1 - INFO - S1_R1_C1-C11_A1_y007_x011_c000.ome.tif: Beginning flatfield estimation\n"
     ]
    },
    {
     "name": "stdout",
     "output_type": "stream",
     "text": [
      "Exiting container polus86\n"
     ]
    },
    {
     "name": "stderr",
     "output_type": "stream",
     "text": [
      "Traceback (most recent call last):\n",
      "  File \"/opt/executables/main.py\", line 114, in <module>\n",
      "    main(input_dir = input_dir,\n",
      "  File \"/opt/executables/main.py\", line 46, in main\n",
      "    ProcessManager.join_processes()\n",
      "  File \"/usr/local/lib/python3.9/dist-packages/preadator/preadator.py\", line 353, in join_processes\n",
      "    done, not_done = wait(ProcessManager._processes,timeout=update_period,\n",
      "  File \"/usr/lib/python3.9/concurrent/futures/_base.py\", line 306, in wait\n",
      "    waiter.event.wait(timeout)\n",
      "  File \"/usr/lib/python3.9/threading.py\", line 574, in wait\n",
      "    signaled = self._cond.wait(timeout)\n",
      "  File \"/usr/lib/python3.9/threading.py\", line 316, in wait\n",
      "    gotit = waiter.acquire(True, timeout)\n",
      "KeyboardInterrupt\n"
     ]
    },
    {
     "ename": "DockerException",
     "evalue": "The docker command executed was `/usr/bin/docker container run --mount type=bind,source=/home/ec2-user/data/inputs,target=/data/inputs/input0,readonly --mount type=bind,source=/home/ec2-user/data/outputs,target=/data/outputs/output0 --name polus86 --rm labshare/polus-basic-flatfield-correction-plugin:1.2.6 --inpDir /data/inputs/input0 --filePattern S1_R{r}_C1-C11_A1_y0{yy}_x0{xx}_c0{cc}.ome.tif --darkfield True --photobleach False --groupBy None --outDir /data/outputs/output0`.\nIt returned with code 137\nThe content of stdout is ''\nThe content of stderr can be found above the stacktrace (it wasn't captured).",
     "output_type": "error",
     "traceback": [
      "\u001b[0;31m---------------------------------------------------------------------------\u001b[0m",
      "\u001b[0;31mDockerException\u001b[0m                           Traceback (most recent call last)",
      "Input \u001b[0;32mIn [18]\u001b[0m, in \u001b[0;36m<cell line: 1>\u001b[0;34m()\u001b[0m\n\u001b[0;32m----> 1\u001b[0m \u001b[43mbf\u001b[49m\u001b[38;5;241;43m.\u001b[39;49m\u001b[43mrun\u001b[49m\u001b[43m(\u001b[49m\u001b[43mgpus\u001b[49m\u001b[38;5;241;43m=\u001b[39;49m\u001b[38;5;28;43;01mNone\u001b[39;49;00m\u001b[43m)\u001b[49m\n",
      "File \u001b[0;32m~/anaconda3/envs/demo/lib/python3.9/site-packages/polus/plugins.py:540\u001b[0m, in \u001b[0;36mPlugin.run\u001b[0;34m(self, gpus, **kwargs)\u001b[0m\n\u001b[1;32m    535\u001b[0m \u001b[38;5;28;01mif\u001b[39;00m gpus \u001b[38;5;129;01mis\u001b[39;00m \u001b[38;5;28;01mNone\u001b[39;00m:\n\u001b[1;32m    536\u001b[0m     logger\u001b[38;5;241m.\u001b[39minfo(\n\u001b[1;32m    537\u001b[0m         \u001b[38;5;124m\"\u001b[39m\u001b[38;5;124mRunning container without GPU. \u001b[39m\u001b[38;5;132;01m%s\u001b[39;00m\u001b[38;5;124m version \u001b[39m\u001b[38;5;132;01m%s\u001b[39;00m\u001b[38;5;124m\"\u001b[39m\n\u001b[1;32m    538\u001b[0m         \u001b[38;5;241m%\u001b[39m (\u001b[38;5;28mself\u001b[39m\u001b[38;5;241m.\u001b[39m\u001b[38;5;18m__class__\u001b[39m\u001b[38;5;241m.\u001b[39m\u001b[38;5;18m__name__\u001b[39m, \u001b[38;5;28mself\u001b[39m\u001b[38;5;241m.\u001b[39mversion\u001b[38;5;241m.\u001b[39mversion)\n\u001b[1;32m    539\u001b[0m     )\n\u001b[0;32m--> 540\u001b[0m     d \u001b[38;5;241m=\u001b[39m \u001b[43mdocker\u001b[49m\u001b[38;5;241;43m.\u001b[39;49m\u001b[43mrun\u001b[49m\u001b[43m(\u001b[49m\n\u001b[1;32m    541\u001b[0m \u001b[43m        \u001b[49m\u001b[38;5;28;43mself\u001b[39;49m\u001b[38;5;241;43m.\u001b[39;49m\u001b[43mcontainerId\u001b[49m\u001b[43m,\u001b[49m\n\u001b[1;32m    542\u001b[0m \u001b[43m        \u001b[49m\u001b[43margs\u001b[49m\u001b[43m,\u001b[49m\n\u001b[1;32m    543\u001b[0m \u001b[43m        \u001b[49m\u001b[43mname\u001b[49m\u001b[38;5;241;43m=\u001b[39;49m\u001b[43mcontainer_name\u001b[49m\u001b[43m,\u001b[49m\n\u001b[1;32m    544\u001b[0m \u001b[43m        \u001b[49m\u001b[43mremove\u001b[49m\u001b[38;5;241;43m=\u001b[39;49m\u001b[38;5;28;43;01mTrue\u001b[39;49;00m\u001b[43m,\u001b[49m\n\u001b[1;32m    545\u001b[0m \u001b[43m        \u001b[49m\u001b[43mmounts\u001b[49m\u001b[38;5;241;43m=\u001b[39;49m\u001b[43mmnts\u001b[49m\u001b[43m,\u001b[49m\n\u001b[1;32m    546\u001b[0m \u001b[43m        \u001b[49m\u001b[38;5;241;43m*\u001b[39;49m\u001b[38;5;241;43m*\u001b[39;49m\u001b[43mkwargs\u001b[49m\u001b[43m,\u001b[49m\n\u001b[1;32m    547\u001b[0m \u001b[43m    \u001b[49m\u001b[43m)\u001b[49m\n\u001b[1;32m    548\u001b[0m     \u001b[38;5;28mprint\u001b[39m(d)\n\u001b[1;32m    549\u001b[0m \u001b[38;5;28;01melse\u001b[39;00m:\n",
      "File \u001b[0;32m~/anaconda3/envs/demo/lib/python3.9/site-packages/python_on_whales/components/container/cli_wrapper.py:1546\u001b[0m, in \u001b[0;36mContainerCLI.run\u001b[0;34m(self, image, command, add_hosts, blkio_weight, blkio_weight_device, cap_add, cap_drop, cgroup_parent, cidfile, cpu_period, cpu_quota, cpu_rt_period, cpu_rt_runtime, cpu_shares, cpus, cpuset_cpus, cpuset_mems, detach, devices, device_cgroup_rules, device_read_bps, device_read_iops, device_write_bps, device_write_iops, content_trust, dns, dns_options, dns_search, domainname, entrypoint, envs, env_files, expose, gpus, groups_add, healthcheck, health_cmd, health_interval, health_retries, health_start_period, health_timeout, hostname, init, interactive, ip, ip6, ipc, isolation, kernel_memory, labels, label_files, link, link_local_ip, log_driver, log_options, mac_address, memory, memory_reservation, memory_swap, memory_swappiness, mounts, name, networks, network_aliases, oom_kill, oom_score_adj, pid, pids_limit, platform, privileged, publish, publish_all, read_only, restart, remove, runtime, security_options, shm_size, sig_proxy, stop_signal, stop_timeout, storage_options, stream, sysctl, tmpfs, tty, ulimit, user, userns, uts, volumes, volume_driver, volumes_from, workdir)\u001b[0m\n\u001b[1;32m   1544\u001b[0m     \u001b[38;5;28;01mreturn\u001b[39;00m stream_stdout_and_stderr(full_cmd)\n\u001b[1;32m   1545\u001b[0m \u001b[38;5;28;01melse\u001b[39;00m:\n\u001b[0;32m-> 1546\u001b[0m     \u001b[38;5;28;01mreturn\u001b[39;00m \u001b[43mrun\u001b[49m\u001b[43m(\u001b[49m\u001b[43mfull_cmd\u001b[49m\u001b[43m,\u001b[49m\u001b[43m \u001b[49m\u001b[43mtty\u001b[49m\u001b[38;5;241;43m=\u001b[39;49m\u001b[43mtty\u001b[49m\u001b[43m,\u001b[49m\u001b[43m \u001b[49m\u001b[43mcapture_stderr\u001b[49m\u001b[38;5;241;43m=\u001b[39;49m\u001b[38;5;28;43;01mFalse\u001b[39;49;00m\u001b[43m)\u001b[49m\n",
      "File \u001b[0;32m~/anaconda3/envs/demo/lib/python3.9/site-packages/python_on_whales/utils.py:150\u001b[0m, in \u001b[0;36mrun\u001b[0;34m(args, capture_stdout, capture_stderr, input, return_stderr, env, tty)\u001b[0m\n\u001b[1;32m    142\u001b[0m         \u001b[38;5;28;01mif\u001b[39;00m \u001b[38;5;124m\"\u001b[39m\u001b[38;5;124mno such volume\u001b[39m\u001b[38;5;124m\"\u001b[39m \u001b[38;5;129;01min\u001b[39;00m completed_process\u001b[38;5;241m.\u001b[39mstderr\u001b[38;5;241m.\u001b[39mdecode()\u001b[38;5;241m.\u001b[39mlower():\n\u001b[1;32m    143\u001b[0m             \u001b[38;5;28;01mraise\u001b[39;00m NoSuchVolume(\n\u001b[1;32m    144\u001b[0m                 args,\n\u001b[1;32m    145\u001b[0m                 completed_process\u001b[38;5;241m.\u001b[39mreturncode,\n\u001b[1;32m    146\u001b[0m                 completed_process\u001b[38;5;241m.\u001b[39mstdout,\n\u001b[1;32m    147\u001b[0m                 completed_process\u001b[38;5;241m.\u001b[39mstderr,\n\u001b[1;32m    148\u001b[0m             )\n\u001b[0;32m--> 150\u001b[0m     \u001b[38;5;28;01mraise\u001b[39;00m DockerException(\n\u001b[1;32m    151\u001b[0m         args,\n\u001b[1;32m    152\u001b[0m         completed_process\u001b[38;5;241m.\u001b[39mreturncode,\n\u001b[1;32m    153\u001b[0m         completed_process\u001b[38;5;241m.\u001b[39mstdout,\n\u001b[1;32m    154\u001b[0m         completed_process\u001b[38;5;241m.\u001b[39mstderr,\n\u001b[1;32m    155\u001b[0m     )\n\u001b[1;32m    157\u001b[0m \u001b[38;5;28;01mif\u001b[39;00m return_stderr:\n\u001b[1;32m    158\u001b[0m     \u001b[38;5;28;01mreturn\u001b[39;00m (\n\u001b[1;32m    159\u001b[0m         post_process_stream(completed_process\u001b[38;5;241m.\u001b[39mstdout),\n\u001b[1;32m    160\u001b[0m         post_process_stream(completed_process\u001b[38;5;241m.\u001b[39mstderr),\n\u001b[1;32m    161\u001b[0m     )\n",
      "\u001b[0;31mDockerException\u001b[0m: The docker command executed was `/usr/bin/docker container run --mount type=bind,source=/home/ec2-user/data/inputs,target=/data/inputs/input0,readonly --mount type=bind,source=/home/ec2-user/data/outputs,target=/data/outputs/output0 --name polus86 --rm labshare/polus-basic-flatfield-correction-plugin:1.2.6 --inpDir /data/inputs/input0 --filePattern S1_R{r}_C1-C11_A1_y0{yy}_x0{xx}_c0{cc}.ome.tif --darkfield True --photobleach False --groupBy None --outDir /data/outputs/output0`.\nIt returned with code 137\nThe content of stdout is ''\nThe content of stderr can be found above the stacktrace (it wasn't captured)."
     ]
    }
   ],
   "source": [
    "bf.run(gpus=None)"
   ]
  },
  {
   "cell_type": "markdown",
   "id": "7ebf7040",
   "metadata": {},
   "source": [
    "Interrupting the Python process will kill and remove the container: no orphan containers!"
   ]
  },
  {
   "cell_type": "markdown",
   "id": "22e417f8",
   "metadata": {},
   "source": [
    "## Let's run a less complex plugin from beginning to end.\n",
    "---\n",
    "#### But first, let's save the I/O values we set so that we can reuse them in the future\n"
   ]
  },
  {
   "cell_type": "code",
   "execution_count": 19,
   "id": "c505f1ff",
   "metadata": {},
   "outputs": [],
   "source": [
    "bf.save_config(\"./bfconfig\") # we will come back to this"
   ]
  },
  {
   "cell_type": "markdown",
   "id": "85600c1f",
   "metadata": {},
   "source": [
    "---"
   ]
  },
  {
   "cell_type": "markdown",
   "id": "350c20cd",
   "metadata": {},
   "source": [
    "### Select a new plugin"
   ]
  },
  {
   "cell_type": "code",
   "execution_count": 20,
   "id": "0723cbed",
   "metadata": {},
   "outputs": [],
   "source": [
    "omezarr = plugins.OmeZarrConverter"
   ]
  },
  {
   "cell_type": "code",
   "execution_count": 21,
   "id": "15e27e19",
   "metadata": {},
   "outputs": [
    {
     "data": {
      "text/plain": [
       "['inpDir', 'filePatter']"
      ]
     },
     "execution_count": 21,
     "metadata": {},
     "output_type": "execute_result"
    }
   ],
   "source": [
    "[input.name for input in omezarr.inputs] # list of input names"
   ]
  },
  {
   "cell_type": "code",
   "execution_count": 22,
   "id": "69c38901",
   "metadata": {},
   "outputs": [],
   "source": [
    "omezarr.inpDir = bf.inpDir"
   ]
  },
  {
   "cell_type": "code",
   "execution_count": 23,
   "id": "a8d09941",
   "metadata": {},
   "outputs": [],
   "source": [
    "omezarr.filePatter = bf.filePattern"
   ]
  },
  {
   "cell_type": "code",
   "execution_count": 24,
   "id": "ec47d862",
   "metadata": {},
   "outputs": [
    {
     "data": {
      "text/plain": [
       "['outDir']"
      ]
     },
     "execution_count": 24,
     "metadata": {},
     "output_type": "execute_result"
    }
   ],
   "source": [
    "[output.name for output in omezarr.outputs] # list of output names"
   ]
  },
  {
   "cell_type": "code",
   "execution_count": 26,
   "id": "438acf5a",
   "metadata": {},
   "outputs": [],
   "source": [
    "omezarr.outDir = bf.outDir.joinpath(\"omezarr\")"
   ]
  },
  {
   "cell_type": "code",
   "execution_count": 27,
   "id": "d1cce9a6",
   "metadata": {},
   "outputs": [
    {
     "data": {
      "text/plain": [
       "[Output(type=<OutputTypes.genericData: 'genericData'>, options=None, value=PosixPath('/home/ec2-user/data/outputs/omezarr'), id=None, name='outDir', description='Output collection')]"
      ]
     },
     "execution_count": 27,
     "metadata": {},
     "output_type": "execute_result"
    }
   ],
   "source": [
    "omezarr.outputs"
   ]
  },
  {
   "cell_type": "code",
   "execution_count": 28,
   "id": "4f34196a",
   "metadata": {},
   "outputs": [
    {
     "name": "stderr",
     "output_type": "stream",
     "text": [
      "11-Mar-22 18:00:49 - polus.plugins - INFO - Running container without GPU. OmeZarrConverter version 0.2.0\n"
     ]
    },
    {
     "name": "stdout",
     "output_type": "stream",
     "text": [
      "Unable to find image 'labshare/polus-ome-zarr-converter-plugin:0.2.0' locally\n",
      "0.2.0: Pulling from labshare/polus-ome-zarr-converter-plugin\n",
      "c549ccf8d472: Already exists\n",
      "e920f29c01be: Already exists\n",
      "7ad2a8fabcac: Already exists\n",
      "b3bf2315b004: Already exists\n",
      "46e2d4d94b50: Already exists\n",
      "354e28b2d647: Already exists\n",
      "0bce5a76c787: Pulling fs layer\n",
      "2835576c8026: Pulling fs layer\n",
      "cd6f46991ae9: Pulling fs layer\n",
      "2835576c8026: Verifying Checksum\n",
      "2835576c8026: Download complete\n",
      "cd6f46991ae9: Verifying Checksum\n",
      "cd6f46991ae9: Download complete\n",
      "0bce5a76c787: Verifying Checksum\n",
      "0bce5a76c787: Download complete\n",
      "0bce5a76c787: Pull complete\n",
      "2835576c8026: Pull complete\n",
      "cd6f46991ae9: Pull complete\n",
      "Digest: sha256:880b1d15e9a9cb123c212dfcaaa427a742101d030b9f069be670a41ebfe0c67b\n",
      "Status: Downloaded newer image for labshare/polus-ome-zarr-converter-plugin:0.2.0\n",
      "docker.io/labshare/polus-ome-zarr-converter-plugin:0.2.0\n"
     ]
    },
    {
     "name": "stderr",
     "output_type": "stream",
     "text": [
      "11-Mar-22 18:00:51 - main     - INFO     - Parsing arguments...\n",
      "11-Mar-22 18:00:51 - main     - INFO     - inpDir = /data/inputs/input0\n",
      "11-Mar-22 18:00:51 - main     - INFO     - filePattern = S1_R{r}_C1-C11_A1_y0{yy}_x0{xx}_c0{cc}.ome.tif\n",
      "11-Mar-22 18:00:51 - main     - INFO     - outDir = /data/outputs/output0\n",
      "11-Mar-22 18:00:57 - main     - INFO     - Processes 100.00% complete\n"
     ]
    },
    {
     "name": "stdout",
     "output_type": "stream",
     "text": [
      "\n"
     ]
    }
   ],
   "source": [
    "omezarr.run(gpus=None) # no need to docker pull: it will be done automatically"
   ]
  },
  {
   "cell_type": "code",
   "execution_count": 29,
   "id": "7bb11df6",
   "metadata": {},
   "outputs": [
    {
     "name": "stdout",
     "output_type": "stream",
     "text": [
      "S1_R1_C1-C11_A1_y005_x010_c000.ome.zarr\r\n",
      "S1_R1_C1-C11_A1_y005_x010_c004.ome.zarr\r\n",
      "S1_R1_C1-C11_A1_y005_x011_c002.ome.zarr\r\n",
      "S1_R1_C1-C11_A1_y005_x011_c004.ome.zarr\r\n",
      "S1_R1_C1-C11_A1_y006_x008_c001.ome.zarr\r\n",
      "S1_R1_C1-C11_A1_y006_x011_c001.ome.zarr\r\n",
      "S1_R1_C1-C11_A1_y007_x011_c000.ome.zarr\r\n",
      "S1_R1_C1-C11_A1_y007_x012_c003.ome.zarr\r\n",
      "S1_R1_C1-C11_A1_y008_x008_c010.ome.zarr\r\n",
      "S1_R1_C1-C11_A1_y008_x010_c007.ome.zarr\r\n",
      "S1_R1_C1-C11_A1_y008_x011_c001.ome.zarr\r\n",
      "S1_R1_C1-C11_A1_y008_x012_c003.ome.zarr\r\n",
      "S1_R1_C1-C11_A1_y008_x012_c005.ome.zarr\r\n",
      "S1_R1_C1-C11_A1_y008_x012_c006.ome.zarr\r\n",
      "S1_R1_C1-C11_A1_y009_x010_c008.ome.zarr\r\n",
      "S1_R1_C1-C11_A1_y009_x011_c006.ome.zarr\r\n",
      "S1_R1_C1-C11_A1_y009_x011_c007.ome.zarr\r\n",
      "S1_R2_C1-C11_A1_y005_x009_c007.ome.zarr\r\n",
      "S1_R2_C1-C11_A1_y005_x012_c005.ome.zarr\r\n",
      "S1_R2_C1-C11_A1_y006_x010_c009.ome.zarr\r\n",
      "S1_R2_C1-C11_A1_y006_x012_c000.ome.zarr\r\n",
      "S1_R2_C1-C11_A1_y007_x011_c006.ome.zarr\r\n",
      "S1_R2_C1-C11_A1_y008_x009_c002.ome.zarr\r\n",
      "S1_R2_C1-C11_A1_y008_x010_c009.ome.zarr\r\n",
      "S1_R2_C1-C11_A1_y009_x012_c006.ome.zarr\r\n"
     ]
    }
   ],
   "source": [
    "! ls ~/data/outputs/omezarr"
   ]
  },
  {
   "cell_type": "markdown",
   "id": "ea081b0e",
   "metadata": {},
   "source": [
    "## Specifying docker arguments"
   ]
  },
  {
   "cell_type": "markdown",
   "id": "4a1a6784",
   "metadata": {},
   "source": [
    "* **Docker cli**: `--memory \"1GB\"`\n",
    "* **polus-plugins**: `(memory=\"1GB\")`"
   ]
  },
  {
   "cell_type": "code",
   "execution_count": null,
   "id": "d27c71f6",
   "metadata": {},
   "outputs": [],
   "source": [
    "omezarr.run(gpus=None, memory=\"1GB\")"
   ]
  },
  {
   "cell_type": "markdown",
   "id": "6d21fc6e",
   "metadata": {},
   "source": [
    "* **Docker cli**: `--gpus 3` # 3 gpus\n",
    "* **polus-plugins**: `(gpus=3)` # 3 gpus\n",
    "* **Docker cli**: `--gpus '\"device=1,2\"'` # gpus 1 and 2\n",
    "* **polus-plugins**: `(gpus=\"device=1,2\")` # gpus 1 and 2"
   ]
  },
  {
   "cell_type": "code",
   "execution_count": null,
   "id": "144561ee",
   "metadata": {},
   "outputs": [],
   "source": [
    "bf.run(gpus=3)\n",
    "bf.run(gpus=\"device=1,2\")"
   ]
  },
  {
   "cell_type": "markdown",
   "id": "581c75bf",
   "metadata": {},
   "source": [
    "# Modifying plugins"
   ]
  },
  {
   "cell_type": "markdown",
   "id": "2224fb21",
   "metadata": {},
   "source": [
    "### `versions` vs `version`\n",
    "* **versions**: answers the question: What versions of a plugin X are locally available?\n",
    "* **version**: **specific to a plugin instance** `bf` is an instance of the BasicFlatfield Correction plugin. What's its version?"
   ]
  },
  {
   "cell_type": "code",
   "execution_count": 30,
   "id": "49cdaf8f",
   "metadata": {},
   "outputs": [
    {
     "data": {
      "text/plain": [
       "[Version(version='1.2.6')]"
      ]
     },
     "execution_count": 30,
     "metadata": {},
     "output_type": "execute_result"
    }
   ],
   "source": [
    "plugins.BasicFlatfieldCorrectionPlugin.versions # available versions locally"
   ]
  },
  {
   "cell_type": "code",
   "execution_count": 31,
   "id": "9dc78fb9",
   "metadata": {},
   "outputs": [
    {
     "data": {
      "text/plain": [
       "Version(version='1.2.6')"
      ]
     },
     "execution_count": 31,
     "metadata": {},
     "output_type": "execute_result"
    }
   ],
   "source": [
    "bf.version # version of instance"
   ]
  },
  {
   "cell_type": "markdown",
   "id": "03897ed8",
   "metadata": {},
   "source": [
    "## From url of plugin manifest with different version number"
   ]
  },
  {
   "cell_type": "markdown",
   "id": "87ae296d",
   "metadata": {},
   "source": [
    "[plugin](https://raw.githubusercontent.com/PolusAI/polus-plugins/716e9588bda48afb4ceec17e98595d24a2d346e8/regression/polus-basic-flatfield-correction-plugin/plugin.json)"
   ]
  },
  {
   "cell_type": "code",
   "execution_count": 33,
   "id": "c8846b6c",
   "metadata": {},
   "outputs": [],
   "source": [
    "url = 'https://raw.githubusercontent.com/PolusAI/polus-plugins/716e9588bda48afb4ceec17e98595d24a2d346e8/regression/polus-basic-flatfield-correction-plugin/plugin.json'"
   ]
  },
  {
   "cell_type": "code",
   "execution_count": 34,
   "id": "5fcd360d",
   "metadata": {},
   "outputs": [
    {
     "data": {
      "text/plain": [
       "BasicFlatfieldCorrectionPlugin(name='BaSiC Flatfield Correction Plugin', version=Version(version='1.2.4'), title='Flatfield correction using BaSiC algorithm.', description='Generates images used for flatfield correction using the BaSiC algorithm.', author='Nick Schaub (nick.schaub@nih.gov)', institution='National Center for the Advancing Translational Sciences, National Institutes of Health', repository='https://github.com/labshare/polus-plugins', website='https://ncats.nih.gov/preclinical/core/informatics', citation='Peng et al. \"A BaSiC tool for background and shading correction of optical microscopy images\" Nature Communications (2017)', containerId='labshare/polus-basic-flatfield-correction-plugin:1.2.4', inputs=[Input(type=<InputTypes.collection: 'collection'>, options=None, value=None, id=None, name='inpDir', description='Input image collection.', required=True), Input(type=<InputTypes.string: 'string'>, options=None, value=None, id=None, name='filePattern', description='Filename pattern used to separate images by channel, timepoint, and replicate.', required=True), Input(type=<InputTypes.boolean: 'boolean'>, options=None, value=None, id=None, name='darkfield', description='Calculate darkfield image.', required=True), Input(type=<InputTypes.boolean: 'boolean'>, options=None, value=None, id=None, name='photobleach', description='Calculate photobleaching offsets.', required=True), Input(type=<InputTypes.string: 'string'>, options=None, value=None, id=None, name='groupBy', description='Group images together for flatfield by variable.', required=False)], outputs=[Output(type=<OutputTypes.collection: 'collection'>, options=None, value=None, id=None, name='outDir', description='Output data for the plugin')], ui=[UiItem(key='inputs.inpDir'), UiItem(key='inputs.filePattern'), UiItem(key='inputs.groupBy'), UiItem(key='inputs.darkfield'), UiItem(key='inputs.photobleach')], manifest={'name': 'BaSiC Flatfield Correction Plugin', 'version': '1.2.4', 'title': 'Flatfield correction using BaSiC algorithm.', 'description': 'Generates images used for flatfield correction using the BaSiC algorithm.', 'author': 'Nick Schaub (nick.schaub@nih.gov)', 'institution': 'National Center for the Advancing Translational Sciences, National Institutes of Health', 'repository': 'https://github.com/labshare/polus-plugins', 'website': 'https://ncats.nih.gov/preclinical/core/informatics', 'citation': 'Peng et al. \"A BaSiC tool for background and shading correction of optical microscopy images\" Nature Communications (2017)', 'containerId': 'labshare/polus-basic-flatfield-correction-plugin:1.2.4', 'inputs': [{'name': 'inpDir', 'type': 'collection', 'description': 'Input image collection.', 'required': True}, {'name': 'filePattern', 'type': 'string', 'description': 'Filename pattern used to separate images by channel, timepoint, and replicate.', 'required': True}, {'name': 'darkfield', 'type': 'boolean', 'description': 'Calculate darkfield image.', 'required': True}, {'name': 'photobleach', 'type': 'boolean', 'description': 'Calculate photobleaching offsets.', 'required': True}, {'name': 'groupBy', 'type': 'string', 'description': 'Group images together for flatfield by variable.', 'required': False}], 'outputs': [{'name': 'outDir', 'type': 'collection', 'description': 'Output data for the plugin'}], 'ui': [{'key': 'inputs.inpDir', 'title': 'Input image collection: ', 'description': 'Image collection...'}, {'key': 'inputs.filePattern', 'title': 'Filename pattern: ', 'description': 'Use a filename pattern to calculate flatfield information by subsets'}, {'key': 'inputs.groupBy', 'title': 'Grouping Variables: ', 'description': 'Group data together with varying variable values.'}, {'key': 'inputs.darkfield', 'title': 'Calculate darkfield: ', 'description': 'If selected, will generate a darkfield image'}, {'key': 'inputs.photobleach', 'title': 'Calclate photobleaching offset: ', 'description': 'If selected, will generate an offset scalar for each image'}]}, versions=[], id=UUID('01dc6c8c-d968-409f-99c6-e1a35038f8b0'), _io_keys={'inpDir': Input(type=<InputTypes.collection: 'collection'>, options=None, value=None, id=None, name='inpDir', description='Input image collection.', required=True), 'filePattern': Input(type=<InputTypes.string: 'string'>, options=None, value=None, id=None, name='filePattern', description='Filename pattern used to separate images by channel, timepoint, and replicate.', required=True), 'darkfield': Input(type=<InputTypes.boolean: 'boolean'>, options=None, value=None, id=None, name='darkfield', description='Calculate darkfield image.', required=True), 'photobleach': Input(type=<InputTypes.boolean: 'boolean'>, options=None, value=None, id=None, name='photobleach', description='Calculate photobleaching offsets.', required=True), 'groupBy': Input(type=<InputTypes.string: 'string'>, options=None, value=None, id=None, name='groupBy', description='Group images together for flatfield by variable.', required=False), 'outDir': Output(type=<OutputTypes.collection: 'collection'>, options=None, value=None, id=None, name='outDir', description='Output data for the plugin')})"
      ]
     },
     "execution_count": 34,
     "metadata": {},
     "output_type": "execute_result"
    }
   ],
   "source": [
    "polus.plugins.submit_plugin(\n",
    "    url,\n",
    "    refresh=True)"
   ]
  },
  {
   "cell_type": "code",
   "execution_count": 35,
   "id": "609986bd",
   "metadata": {},
   "outputs": [
    {
     "data": {
      "text/plain": [
       "[Version(version='1.2.6'), Version(version='1.2.4')]"
      ]
     },
     "execution_count": 35,
     "metadata": {},
     "output_type": "execute_result"
    }
   ],
   "source": [
    "plugins.BasicFlatfieldCorrectionPlugin.versions # now we have more versions available"
   ]
  },
  {
   "cell_type": "markdown",
   "id": "97ac94a4",
   "metadata": {},
   "source": [
    "## Select specific version"
   ]
  },
  {
   "cell_type": "code",
   "execution_count": 36,
   "id": "aa3bccdb",
   "metadata": {},
   "outputs": [],
   "source": [
    "bf124 = plugins.get_plugin(\"BasicFlatfieldCorrectionPlugin\", \"1.2.4\")"
   ]
  },
  {
   "cell_type": "code",
   "execution_count": 37,
   "id": "71fcd910",
   "metadata": {},
   "outputs": [
    {
     "data": {
      "text/plain": [
       "Version(version='1.2.4')"
      ]
     },
     "execution_count": 37,
     "metadata": {},
     "output_type": "execute_result"
    }
   ],
   "source": [
    "bf124.version"
   ]
  },
  {
   "cell_type": "markdown",
   "id": "8be7483e",
   "metadata": {},
   "source": [
    "## Set I/O values from file"
   ]
  },
  {
   "cell_type": "code",
   "execution_count": 38,
   "id": "f7256a41",
   "metadata": {},
   "outputs": [
    {
     "data": {
      "text/plain": [
       "[Input(type=<InputTypes.collection: 'collection'>, options=None, value=None, id=None, name='inpDir', description='Input image collection.', required=True),\n",
       " Input(type=<InputTypes.string: 'string'>, options=None, value=None, id=None, name='filePattern', description='Filename pattern used to separate images by channel, timepoint, and replicate.', required=True),\n",
       " Input(type=<InputTypes.boolean: 'boolean'>, options=None, value=None, id=None, name='darkfield', description='Calculate darkfield image.', required=True),\n",
       " Input(type=<InputTypes.boolean: 'boolean'>, options=None, value=None, id=None, name='photobleach', description='Calculate photobleaching offsets.', required=True),\n",
       " Input(type=<InputTypes.string: 'string'>, options=None, value=None, id=None, name='groupBy', description='Group images together for flatfield by variable.', required=False)]"
      ]
     },
     "execution_count": 38,
     "metadata": {},
     "output_type": "execute_result"
    }
   ],
   "source": [
    "bf124.inputs"
   ]
  },
  {
   "cell_type": "code",
   "execution_count": 39,
   "id": "a166bfba",
   "metadata": {},
   "outputs": [],
   "source": [
    "bf124.load_config(\"./bfconfig\")"
   ]
  },
  {
   "cell_type": "code",
   "execution_count": 40,
   "id": "3b0fdc18",
   "metadata": {},
   "outputs": [
    {
     "data": {
      "text/plain": [
       "[Input(type=<InputTypes.collection: 'collection'>, options=None, value=PosixPath('/home/ec2-user/data/inputs'), id=None, name='inpDir', description='Input image collection.', required=True),\n",
       " Input(type=<InputTypes.string: 'string'>, options=None, value='S1_R{r}_C1-C11_A1_y0{yy}_x0{xx}_c0{cc}.ome.tif', id=None, name='filePattern', description='Filename pattern used to separate images by channel, timepoint, and replicate.', required=True),\n",
       " Input(type=<InputTypes.boolean: 'boolean'>, options=None, value=True, id=None, name='darkfield', description='Calculate darkfield image.', required=True),\n",
       " Input(type=<InputTypes.boolean: 'boolean'>, options=None, value=True, id=None, name='photobleach', description='Calculate photobleaching offsets.', required=True),\n",
       " Input(type=<InputTypes.string: 'string'>, options=None, value='None', id=None, name='groupBy', description='Group images together for flatfield by variable.', required=False)]"
      ]
     },
     "execution_count": 40,
     "metadata": {},
     "output_type": "execute_result"
    }
   ],
   "source": [
    "bf124.inputs"
   ]
  },
  {
   "cell_type": "code",
   "execution_count": 41,
   "id": "78d83011",
   "metadata": {},
   "outputs": [
    {
     "data": {
      "text/plain": [
       "[Output(type=<OutputTypes.collection: 'collection'>, options=None, value=PosixPath('/home/ec2-user/data/outputs'), id=None, name='outDir', description='Output data for the plugin')]"
      ]
     },
     "execution_count": 41,
     "metadata": {},
     "output_type": "execute_result"
    }
   ],
   "source": [
    "bf124.outputs"
   ]
  },
  {
   "cell_type": "markdown",
   "id": "bb399e6d",
   "metadata": {},
   "source": [
    "## Remove local files after all operations"
   ]
  },
  {
   "cell_type": "code",
   "execution_count": 42,
   "id": "31dafb93",
   "metadata": {},
   "outputs": [
    {
     "data": {
      "text/plain": [
       "True"
      ]
     },
     "execution_count": 42,
     "metadata": {},
     "output_type": "execute_result"
    }
   ],
   "source": [
    "data.clean()"
   ]
  }
 ],
 "metadata": {
  "kernelspec": {
   "display_name": "DifferentEnvironment",
   "language": "python",
   "name": "differentenvironment"
  },
  "language_info": {
   "codemirror_mode": {
    "name": "ipython",
    "version": 3
   },
   "file_extension": ".py",
   "mimetype": "text/x-python",
   "name": "python",
   "nbconvert_exporter": "python",
   "pygments_lexer": "ipython3",
   "version": "3.9.7"
  }
 },
 "nbformat": 4,
 "nbformat_minor": 5
}
