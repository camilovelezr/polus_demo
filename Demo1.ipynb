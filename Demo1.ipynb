{
 "cells": [
  {
   "cell_type": "markdown",
   "id": "026a2036",
   "metadata": {},
   "source": [
    "# Polus-data"
   ]
  },
  {
   "cell_type": "code",
   "execution_count": 1,
   "id": "9e0b5e7d",
   "metadata": {},
   "outputs": [],
   "source": [
    "from polus.data import Collection, collections"
   ]
  },
  {
   "cell_type": "markdown",
   "id": "8269b694",
   "metadata": {},
   "source": [
    "To list all Collections present in storage directory:"
   ]
  },
  {
   "cell_type": "code",
   "execution_count": 2,
   "id": "d1f1a11c",
   "metadata": {},
   "outputs": [
    {
     "data": {
      "text/plain": [
       "['BBBC004',\n",
       " 'BBBC010',\n",
       " 'BBBC033',\n",
       " 'BBBC039',\n",
       " 'Hansen2019Iowa',\n",
       " 'MaricRatBrain2019',\n",
       " 'Mark2021NF-kB',\n",
       " 'Nadia2017ImportTest',\n",
       " 'SchaubHotaling2020Features',\n",
       " 'Schwendy',\n",
       " 'TissueNet',\n",
       " 'Ty2016Fillipin',\n",
       " 'Ty2017Alpha1',\n",
       " 'Ty2017ERDislocation',\n",
       " 'Ty2018EOSKNkinome',\n",
       " 'Ty2018Transomic',\n",
       " 'sod']"
      ]
     },
     "execution_count": 2,
     "metadata": {},
     "output_type": "execute_result"
    }
   ],
   "source": [
    "collections.list"
   ]
  },
  {
   "cell_type": "markdown",
   "id": "21f98f53",
   "metadata": {},
   "source": [
    "To select a `Collection`, there are multiple methods:"
   ]
  },
  {
   "cell_type": "markdown",
   "id": "ae975d03",
   "metadata": {},
   "source": [
    "### 1. collections.MaricRatBrain2019"
   ]
  },
  {
   "cell_type": "code",
   "execution_count": 3,
   "id": "a794bb4d",
   "metadata": {},
   "outputs": [
    {
     "name": "stderr",
     "output_type": "stream",
     "text": [
      "18-Feb-22 14:03:04 - polus.data - WARNING - The dataset MaricRatBrain2019/standard/intensity has not been fetched, so a string will be returned instead of a FilePattern object.\n",
      "18-Feb-22 14:03:04 - polus.data - WARNING - The dataset MaricRatBrain2019/subset/intensity has not been fetched, so a string will be returned instead of a FilePattern object.\n",
      "18-Feb-22 14:03:04 - polus.data - WARNING - The dataset MaricRatBrain2019/fovs/intensity has not been fetched, so a string will be returned instead of a FilePattern object.\n"
     ]
    }
   ],
   "source": [
    "m1 = collections.MaricRatBrain2019 # too many"
   ]
  },
  {
   "cell_type": "markdown",
   "id": "aa3771f1",
   "metadata": {},
   "source": [
    "### 2. collection['MaricRatBrain2019']"
   ]
  },
  {
   "cell_type": "code",
   "execution_count": 4,
   "id": "c639c816",
   "metadata": {},
   "outputs": [
    {
     "name": "stderr",
     "output_type": "stream",
     "text": [
      "18-Feb-22 14:03:17 - polus.data - WARNING - The dataset MaricRatBrain2019/standard/intensity has not been fetched, so a string will be returned instead of a FilePattern object.\n",
      "18-Feb-22 14:03:17 - polus.data - WARNING - The dataset MaricRatBrain2019/subset/intensity has not been fetched, so a string will be returned instead of a FilePattern object.\n",
      "18-Feb-22 14:03:17 - polus.data - WARNING - The dataset MaricRatBrain2019/fovs/intensity has not been fetched, so a string will be returned instead of a FilePattern object.\n"
     ]
    }
   ],
   "source": [
    "m2 = collections['MaricRatBrain2019']"
   ]
  },
  {
   "cell_type": "markdown",
   "id": "8ed35187",
   "metadata": {},
   "source": [
    "### 3. Collection(\"MaricRatBrain2019\")"
   ]
  },
  {
   "cell_type": "code",
   "execution_count": 5,
   "id": "9fdab19d",
   "metadata": {},
   "outputs": [
    {
     "name": "stderr",
     "output_type": "stream",
     "text": [
      "18-Feb-22 14:03:27 - polus.data - WARNING - The dataset MaricRatBrain2019/standard/intensity has not been fetched, so a string will be returned instead of a FilePattern object.\n",
      "18-Feb-22 14:03:27 - polus.data - WARNING - The dataset MaricRatBrain2019/subset/intensity has not been fetched, so a string will be returned instead of a FilePattern object.\n",
      "18-Feb-22 14:03:27 - polus.data - WARNING - The dataset MaricRatBrain2019/fovs/intensity has not been fetched, so a string will be returned instead of a FilePattern object.\n"
     ]
    }
   ],
   "source": [
    "m3 = Collection(\"MaricRatBrain2019\")"
   ]
  },
  {
   "cell_type": "code",
   "execution_count": 6,
   "id": "86779bfd",
   "metadata": {},
   "outputs": [
    {
     "data": {
      "text/plain": [
       "True"
      ]
     },
     "execution_count": 6,
     "metadata": {},
     "output_type": "execute_result"
    }
   ],
   "source": [
    "m1.model == m2.model == m3.model"
   ]
  },
  {
   "cell_type": "markdown",
   "id": "57266b9d",
   "metadata": {},
   "source": [
    "## List all Datasets in the Collection"
   ]
  },
  {
   "cell_type": "code",
   "execution_count": 7,
   "id": "b9b71c1b",
   "metadata": {},
   "outputs": [
    {
     "data": {
      "text/plain": [
       "['raw', 'standard', 'subset', 'fovs']"
      ]
     },
     "execution_count": 7,
     "metadata": {},
     "output_type": "execute_result"
    }
   ],
   "source": [
    "m1.datasets"
   ]
  },
  {
   "cell_type": "code",
   "execution_count": 8,
   "id": "308cef57",
   "metadata": {},
   "outputs": [
    {
     "data": {
      "text/plain": [
       "GenericDataScheme(intensity=Data(path=PosixPath('/Users/camilovelezr/polus-storage/images/MaricRatBrain2019/raw/intensity'), description='Original czi files from each of 5 different staining rounds', wipp_type=<WippType.genericData: 'genericData'>, tags=['intensity', 'czi']), metadata=Data(path=PosixPath('/Users/camilovelezr/polus-storage/images/MaricRatBrain2019/raw/metadata'), description='Additional information from Dragan', wipp_type=<WippType.genericData: 'genericData'>, tags=['metadata']))"
      ]
     },
     "execution_count": 8,
     "metadata": {},
     "output_type": "execute_result"
    }
   ],
   "source": [
    "m1.raw"
   ]
  },
  {
   "cell_type": "code",
   "execution_count": 9,
   "id": "a8134f43",
   "metadata": {},
   "outputs": [
    {
     "data": {
      "text/plain": [
       "Data(path=PosixPath('/Users/camilovelezr/polus-storage/images/MaricRatBrain2019/raw/intensity'), description='Original czi files from each of 5 different staining rounds', wipp_type=<WippType.genericData: 'genericData'>, tags=['intensity', 'czi'])"
      ]
     },
     "execution_count": 9,
     "metadata": {},
     "output_type": "execute_result"
    }
   ],
   "source": [
    "m1.raw.intensity"
   ]
  },
  {
   "cell_type": "code",
   "execution_count": 10,
   "id": "9739835e",
   "metadata": {},
   "outputs": [
    {
     "data": {
      "text/plain": [
       "WippData(path=PosixPath('/Users/camilovelezr/polus-storage/images/MaricRatBrain2019/subset/intensity'), description='A 5x5 grid of field of views for 11 channels and 2 replicates', wipp_type=<WippType.collection: 'collection'>, tags=['intensity', 'fluorescence', 'phase_contrast', 'stitching', 'bleedthrough', 'flatfield', 'nuclear_segmentation'], patterns={'all': 'S1_R{r}_C1-C11_A1_y0{yy}_x0{xx}_c0{cc}.ome.tif', 'DAPI': 'S1_R{r}_C1-C11_A1_y0{yy}_x0{xx}_c000.ome.tif', 'phase-contrast': 'S1_R{r}_C1-C11_A1_y0{yy}_x0{xx}_c010.ome.tif'})"
      ]
     },
     "execution_count": 10,
     "metadata": {},
     "output_type": "execute_result"
    }
   ],
   "source": [
    "m1.subset.intensity"
   ]
  },
  {
   "cell_type": "markdown",
   "id": "119d7645",
   "metadata": {},
   "source": [
    "Since we currently have no images downloaded, we get `str` for the patterns in `subset.intensity` (although they actually represent `FilePattern` objects)"
   ]
  },
  {
   "cell_type": "code",
   "execution_count": 12,
   "id": "175ea8c0",
   "metadata": {},
   "outputs": [
    {
     "data": {
      "text/plain": [
       "{'all': 'S1_R{r}_C1-C11_A1_y0{yy}_x0{xx}_c0{cc}.ome.tif',\n",
       " 'DAPI': 'S1_R{r}_C1-C11_A1_y0{yy}_x0{xx}_c000.ome.tif',\n",
       " 'phase-contrast': 'S1_R{r}_C1-C11_A1_y0{yy}_x0{xx}_c010.ome.tif'}"
      ]
     },
     "execution_count": 12,
     "metadata": {},
     "output_type": "execute_result"
    }
   ],
   "source": [
    "m1.subset.intensity.patterns"
   ]
  },
  {
   "cell_type": "markdown",
   "id": "c3947191",
   "metadata": {},
   "source": [
    "We can fix this by downloading the dataset:"
   ]
  },
  {
   "cell_type": "markdown",
   "id": "f91ef27d",
   "metadata": {},
   "source": [
    "## Download directly from Python (just like `dvc pull`)"
   ]
  },
  {
   "cell_type": "code",
   "execution_count": 21,
   "id": "88ee1ed5",
   "metadata": {},
   "outputs": [
    {
     "name": "stdout",
     "output_type": "stream",
     "text": [
      "A       subset/\n",
      "1 file added and 550 files fetched\n"
     ]
    }
   ],
   "source": [
    "m1.fetch(\"subset\")"
   ]
  },
  {
   "cell_type": "markdown",
   "id": "25688d9c",
   "metadata": {},
   "source": [
    "## FilePatterns\n",
    "When initializing a `Collection` for which files live locally in the polus-storage directory, `FilePattern` objects will be created for such files:"
   ]
  },
  {
   "cell_type": "code",
   "execution_count": 14,
   "id": "1a2c55e4",
   "metadata": {},
   "outputs": [
    {
     "name": "stderr",
     "output_type": "stream",
     "text": [
      "18-Feb-22 14:06:53 - polus.data - WARNING - The dataset MaricRatBrain2019/standard/intensity has not been fetched, so a string will be returned instead of a FilePattern object.\n",
      "18-Feb-22 14:06:53 - polus.data - WARNING - The dataset MaricRatBrain2019/fovs/intensity has not been fetched, so a string will be returned instead of a FilePattern object.\n"
     ]
    }
   ],
   "source": [
    "m_new = collections.MaricRatBrain2019"
   ]
  },
  {
   "cell_type": "code",
   "execution_count": 15,
   "id": "55d63952",
   "metadata": {},
   "outputs": [
    {
     "data": {
      "text/plain": [
       "{'all': <filepattern.classes.FilePattern at 0x7fd3680e6e80>,\n",
       " 'DAPI': <filepattern.classes.FilePattern at 0x7fd3680e6f40>,\n",
       " 'phase-contrast': <filepattern.classes.FilePattern at 0x7fd389931130>}"
      ]
     },
     "execution_count": 15,
     "metadata": {},
     "output_type": "execute_result"
    }
   ],
   "source": [
    "m_new.subset.intensity.patterns"
   ]
  },
  {
   "cell_type": "code",
   "execution_count": 16,
   "id": "6c527b38",
   "metadata": {},
   "outputs": [
    {
     "data": {
      "text/plain": [
       "'S1_R{r}_C1-C11_A1_y0{yy}_x0{xx}_c0{cc}.ome.tif'"
      ]
     },
     "execution_count": 16,
     "metadata": {},
     "output_type": "execute_result"
    }
   ],
   "source": [
    "m_new.subset.intensity.patterns['all'].pattern"
   ]
  },
  {
   "cell_type": "code",
   "execution_count": 17,
   "id": "b1f3a98c",
   "metadata": {},
   "outputs": [
    {
     "data": {
      "text/plain": [
       "PosixPath('/Users/camilovelezr/polus-storage/images/MaricRatBrain2019/subset/intensity')"
      ]
     },
     "execution_count": 17,
     "metadata": {},
     "output_type": "execute_result"
    }
   ],
   "source": [
    "m_new.subset.intensity.patterns['all'].path"
   ]
  },
  {
   "cell_type": "markdown",
   "id": "861fc825",
   "metadata": {},
   "source": [
    "## Paths"
   ]
  },
  {
   "cell_type": "markdown",
   "id": "cf91a0ad",
   "metadata": {},
   "source": [
    "Full paths are returned, no need to join root path with relative paths"
   ]
  },
  {
   "cell_type": "code",
   "execution_count": 18,
   "id": "5db9a7af",
   "metadata": {},
   "outputs": [
    {
     "data": {
      "text/plain": [
       "PosixPath('/Users/camilovelezr/polus-storage/images/MaricRatBrain2019/standard/intensity')"
      ]
     },
     "execution_count": 18,
     "metadata": {},
     "output_type": "execute_result"
    }
   ],
   "source": [
    "m_new.standard.intensity.path"
   ]
  },
  {
   "cell_type": "code",
   "execution_count": 19,
   "id": "80cd7e29",
   "metadata": {},
   "outputs": [
    {
     "data": {
      "text/plain": [
       "PosixPath('/Users/camilovelezr/polus-storage/images/MaricRatBrain2019/subset/intensity')"
      ]
     },
     "execution_count": 19,
     "metadata": {},
     "output_type": "execute_result"
    }
   ],
   "source": [
    "m_new.subset.intensity.path"
   ]
  },
  {
   "cell_type": "markdown",
   "id": "3a0895d2",
   "metadata": {},
   "source": [
    "## Tags as list"
   ]
  },
  {
   "cell_type": "code",
   "execution_count": 20,
   "id": "b3c2f181",
   "metadata": {},
   "outputs": [
    {
     "data": {
      "text/plain": [
       "['intensity', 'fluorescence', 'phase_contrast']"
      ]
     },
     "execution_count": 20,
     "metadata": {},
     "output_type": "execute_result"
    }
   ],
   "source": [
    "m_new.standard.intensity.tags"
   ]
  },
  {
   "cell_type": "markdown",
   "id": "8295d4c0",
   "metadata": {},
   "source": [
    "## Automatic clean-up"
   ]
  },
  {
   "cell_type": "markdown",
   "id": "0b419446",
   "metadata": {},
   "source": [
    "m_new.clean()"
   ]
  }
 ],
 "metadata": {
  "kernelspec": {
   "display_name": "pdemo",
   "language": "python",
   "name": "pdemo"
  },
  "language_info": {
   "codemirror_mode": {
    "name": "ipython",
    "version": 3
   },
   "file_extension": ".py",
   "mimetype": "text/x-python",
   "name": "python",
   "nbconvert_exporter": "python",
   "pygments_lexer": "ipython3",
   "version": "3.9.7"
  }
 },
 "nbformat": 4,
 "nbformat_minor": 5
}
