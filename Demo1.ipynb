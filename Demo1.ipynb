{
 "cells": [
  {
   "cell_type": "markdown",
   "id": "026a2036",
   "metadata": {},
   "source": [
    "# Polus-data"
   ]
  },
  {
   "cell_type": "code",
   "execution_count": 2,
   "id": "9e0b5e7d",
   "metadata": {},
   "outputs": [],
   "source": [
    "from polus.data import collections"
   ]
  },
  {
   "cell_type": "markdown",
   "id": "8269b694",
   "metadata": {},
   "source": [
    "To list all Collections present in storage directory:"
   ]
  },
  {
   "cell_type": "code",
   "execution_count": 3,
   "id": "d1f1a11c",
   "metadata": {},
   "outputs": [
    {
     "data": {
      "text/plain": [
       "['BBBC004',\n",
       " 'BBBC010',\n",
       " 'BBBC033',\n",
       " 'BBBC039',\n",
       " 'Hansen2019Iowa',\n",
       " 'MaricRatBrain2019',\n",
       " 'Mark2021NF-kB',\n",
       " 'Nadia2017ImportTest',\n",
       " 'SchaubHotaling2020Features',\n",
       " 'Schwendy',\n",
       " 'TissueNet',\n",
       " 'Ty2016Fillipin',\n",
       " 'Ty2017Alpha1',\n",
       " 'Ty2017ERDislocation',\n",
       " 'Ty2018EOSKNkinome',\n",
       " 'Ty2018Transomic',\n",
       " 'sod']"
      ]
     },
     "execution_count": 3,
     "metadata": {},
     "output_type": "execute_result"
    }
   ],
   "source": [
    "collections.list"
   ]
  },
  {
   "cell_type": "markdown",
   "id": "21f98f53",
   "metadata": {},
   "source": [
    "To select a `Collection`:"
   ]
  },
  {
   "cell_type": "code",
   "execution_count": 4,
   "id": "a794bb4d",
   "metadata": {},
   "outputs": [],
   "source": [
    "data = collections.MaricRatBrain2019 "
   ]
  },
  {
   "cell_type": "markdown",
   "id": "57266b9d",
   "metadata": {},
   "source": [
    "## List all Datasets in the Collection"
   ]
  },
  {
   "cell_type": "code",
   "execution_count": 7,
   "id": "b9b71c1b",
   "metadata": {},
   "outputs": [
    {
     "data": {
      "text/plain": [
       "['raw', 'standard', 'subset', 'fovs']"
      ]
     },
     "execution_count": 7,
     "metadata": {},
     "output_type": "execute_result"
    }
   ],
   "source": [
    "data.datasets"
   ]
  },
  {
   "cell_type": "markdown",
   "id": "c8acf2a0",
   "metadata": {},
   "source": [
    "## Look at the structure (model) of the collection"
   ]
  },
  {
   "cell_type": "code",
   "execution_count": 8,
   "id": "842b17b4",
   "metadata": {},
   "outputs": [
    {
     "data": {
      "text/plain": [
       "CollectionScheme(raw=GenericDataScheme(intensity=Data(path=PosixPath('/home/ec2-user/polus-storage/images/MaricRatBrain2019/raw/intensity'), description='Original czi files from each of 5 different staining rounds', wipp_type=<WippType.genericData: 'genericData'>, tags=['intensity', 'czi']), metadata=Data(path=PosixPath('/home/ec2-user/polus-storage/images/MaricRatBrain2019/raw/metadata'), description='Additional information from Dragan', wipp_type=<WippType.genericData: 'genericData'>, tags=['metadata'])), standard=WippDataScheme(intensity=WippData(path=PosixPath('/home/ec2-user/polus-storage/images/MaricRatBrain2019/standard/intensity'), description='Data stitched by stage position, channels and replicates are saved as separate files', wipp_type=<WippType.collection: 'collection'>, tags=['intensity', 'fluorescence', 'phase_contrast'], patterns={'all': 'S1_R{r}_C1-C11_A1_c{ccc}.ome.tif', 'DAPI': 'S1_R{r}_C1-C11_A1_c000.ome.tif', 'phase-contrast': 'S1_R{r}_C1-C11_A1_c010.ome.tif'})), subset=WippDataScheme(intensity=WippData(path=PosixPath('/home/ec2-user/polus-storage/images/MaricRatBrain2019/subset/intensity'), description='A 5x5 grid of field of views for 11 channels and 2 replicates', wipp_type=<WippType.collection: 'collection'>, tags=['intensity', 'fluorescence', 'phase_contrast', 'stitching', 'bleedthrough', 'flatfield', 'nuclear_segmentation'], patterns={'all': 'S1_R{r}_C1-C11_A1_y0{yy}_x0{xx}_c0{cc}.ome.tif', 'DAPI': 'S1_R{r}_C1-C11_A1_y0{yy}_x0{xx}_c000.ome.tif', 'phase-contrast': 'S1_R{r}_C1-C11_A1_y0{yy}_x0{xx}_c010.ome.tif'})), additional=WippDataScheme(fovs=WippData(path=PosixPath('/home/ec2-user/polus-storage/images/MaricRatBrain2019/fovs/intensity'), description='All fields of view extracted from the raw data.', wipp_type=<WippType.collection: 'collection'>, tags=['intensity', 'fluorescence', 'phase_contrast'], patterns={'all': 'S1_R{r}_C1-C11_A1_y0{yy}_x0{xx}_c0{cc}.ome.tif', 'DAPI': 'S1_R{r}_C1-C11_A1_y0{yy}_x0{xx}_c000.ome.tif', 'phase-contrast': 'S1_R{r}_C1-C11_A1_y0{yy}_x0{xx}_c010.ome.tif'})), tags=['fluorescence', 'phase_contrast', 'brain', 'rat', 'registration', 'flatfield', 'nuclear_segmentation', 'stitching', 'bleedthrough'])"
      ]
     },
     "execution_count": 8,
     "metadata": {},
     "output_type": "execute_result"
    }
   ],
   "source": [
    "data.model"
   ]
  },
  {
   "cell_type": "markdown",
   "id": "5a866a87",
   "metadata": {},
   "source": [
    "### Easy access to datasets and subdatasets"
   ]
  },
  {
   "cell_type": "code",
   "execution_count": 9,
   "id": "308cef57",
   "metadata": {},
   "outputs": [
    {
     "data": {
      "text/plain": [
       "GenericDataScheme(intensity=Data(path=PosixPath('/home/ec2-user/polus-storage/images/MaricRatBrain2019/raw/intensity'), description='Original czi files from each of 5 different staining rounds', wipp_type=<WippType.genericData: 'genericData'>, tags=['intensity', 'czi']), metadata=Data(path=PosixPath('/home/ec2-user/polus-storage/images/MaricRatBrain2019/raw/metadata'), description='Additional information from Dragan', wipp_type=<WippType.genericData: 'genericData'>, tags=['metadata']))"
      ]
     },
     "execution_count": 9,
     "metadata": {},
     "output_type": "execute_result"
    }
   ],
   "source": [
    "data.raw"
   ]
  },
  {
   "cell_type": "code",
   "execution_count": 10,
   "id": "a8134f43",
   "metadata": {},
   "outputs": [
    {
     "data": {
      "text/plain": [
       "Data(path=PosixPath('/home/ec2-user/polus-storage/images/MaricRatBrain2019/raw/intensity'), description='Original czi files from each of 5 different staining rounds', wipp_type=<WippType.genericData: 'genericData'>, tags=['intensity', 'czi'])"
      ]
     },
     "execution_count": 10,
     "metadata": {},
     "output_type": "execute_result"
    }
   ],
   "source": [
    "data.raw.intensity"
   ]
  },
  {
   "cell_type": "code",
   "execution_count": 11,
   "id": "9739835e",
   "metadata": {},
   "outputs": [
    {
     "data": {
      "text/plain": [
       "WippData(path=PosixPath('/home/ec2-user/polus-storage/images/MaricRatBrain2019/subset/intensity'), description='A 5x5 grid of field of views for 11 channels and 2 replicates', wipp_type=<WippType.collection: 'collection'>, tags=['intensity', 'fluorescence', 'phase_contrast', 'stitching', 'bleedthrough', 'flatfield', 'nuclear_segmentation'], patterns={'all': 'S1_R{r}_C1-C11_A1_y0{yy}_x0{xx}_c0{cc}.ome.tif', 'DAPI': 'S1_R{r}_C1-C11_A1_y0{yy}_x0{xx}_c000.ome.tif', 'phase-contrast': 'S1_R{r}_C1-C11_A1_y0{yy}_x0{xx}_c010.ome.tif'})"
      ]
     },
     "execution_count": 11,
     "metadata": {},
     "output_type": "execute_result"
    }
   ],
   "source": [
    "data.subset.intensity"
   ]
  },
  {
   "cell_type": "markdown",
   "id": "62df2a1a",
   "metadata": {},
   "source": [
    "## FilePatterns"
   ]
  },
  {
   "cell_type": "code",
   "execution_count": 12,
   "id": "175ea8c0",
   "metadata": {},
   "outputs": [
    {
     "data": {
      "text/plain": [
       "{'all': 'S1_R{r}_C1-C11_A1_y0{yy}_x0{xx}_c0{cc}.ome.tif',\n",
       " 'DAPI': 'S1_R{r}_C1-C11_A1_y0{yy}_x0{xx}_c000.ome.tif',\n",
       " 'phase-contrast': 'S1_R{r}_C1-C11_A1_y0{yy}_x0{xx}_c010.ome.tif'}"
      ]
     },
     "execution_count": 12,
     "metadata": {},
     "output_type": "execute_result"
    }
   ],
   "source": [
    "data.subset.intensity.patterns"
   ]
  },
  {
   "cell_type": "markdown",
   "id": "abc5dbdb",
   "metadata": {},
   "source": [
    "There exists a Python object for a FilePattern. Instead of having our filepatterns as strings, it would be nice to have them as `FilePattern`"
   ]
  },
  {
   "cell_type": "markdown",
   "id": "72b32f6a",
   "metadata": {},
   "source": [
    "A `FilePattern` Python class has:\n",
    "* **Pattern**: string that represents the pattern followed by the files' names\n",
    "* **<span style=\"color:red\">Path</span>**: path to the directory where the files are stored. <span style=\"color:red\">It's missing! No files = no path</span>"
   ]
  },
  {
   "cell_type": "markdown",
   "id": "e0f9fb08",
   "metadata": {},
   "source": [
    "We have not downloaded any data. We can't have a path in our machine to the directory of the files because we have no files. Let's download them"
   ]
  },
  {
   "cell_type": "markdown",
   "id": "f91ef27d",
   "metadata": {},
   "source": [
    "## Download directly from Python (just like `dvc pull`)"
   ]
  },
  {
   "cell_type": "code",
   "execution_count": 13,
   "id": "88ee1ed5",
   "metadata": {},
   "outputs": [
    {
     "name": "stdout",
     "output_type": "stream",
     "text": [
      "A       subset/\n",
      "1 file added and 550 files fetched\n"
     ]
    }
   ],
   "source": [
    "data.fetch(\"subset\")"
   ]
  },
  {
   "cell_type": "markdown",
   "id": "25688d9c",
   "metadata": {},
   "source": [
    "When initializing a `Collection` for which files live locally in the polus-storage directory, `FilePattern` objects will be created for such files:"
   ]
  },
  {
   "cell_type": "code",
   "execution_count": 14,
   "id": "1a2c55e4",
   "metadata": {},
   "outputs": [],
   "source": [
    "data_new = collections.MaricRatBrain2019"
   ]
  },
  {
   "cell_type": "code",
   "execution_count": 15,
   "id": "55d63952",
   "metadata": {},
   "outputs": [
    {
     "data": {
      "text/plain": [
       "{'all': <filepattern.classes.FilePattern at 0x7f109de56880>,\n",
       " 'DAPI': <filepattern.classes.FilePattern at 0x7f10bd6a9250>,\n",
       " 'phase-contrast': <filepattern.classes.FilePattern at 0x7f10bc29d610>}"
      ]
     },
     "execution_count": 15,
     "metadata": {},
     "output_type": "execute_result"
    }
   ],
   "source": [
    "data_new.subset.intensity.patterns"
   ]
  },
  {
   "cell_type": "code",
   "execution_count": 16,
   "id": "6c527b38",
   "metadata": {},
   "outputs": [
    {
     "data": {
      "text/plain": [
       "'S1_R{r}_C1-C11_A1_y0{yy}_x0{xx}_c0{cc}.ome.tif'"
      ]
     },
     "execution_count": 16,
     "metadata": {},
     "output_type": "execute_result"
    }
   ],
   "source": [
    "data_new.subset.intensity.patterns['all'].pattern"
   ]
  },
  {
   "cell_type": "code",
   "execution_count": 17,
   "id": "b1f3a98c",
   "metadata": {},
   "outputs": [
    {
     "data": {
      "text/plain": [
       "PosixPath('/home/ec2-user/polus-storage/images/MaricRatBrain2019/subset/intensity')"
      ]
     },
     "execution_count": 17,
     "metadata": {},
     "output_type": "execute_result"
    }
   ],
   "source": [
    "data_new.subset.intensity.patterns['all'].path"
   ]
  },
  {
   "cell_type": "markdown",
   "id": "861fc825",
   "metadata": {},
   "source": [
    "## Paths"
   ]
  },
  {
   "cell_type": "markdown",
   "id": "cf91a0ad",
   "metadata": {},
   "source": [
    "Full paths are returned, no need to join root path with relative paths"
   ]
  },
  {
   "cell_type": "code",
   "execution_count": 18,
   "id": "5db9a7af",
   "metadata": {},
   "outputs": [
    {
     "data": {
      "text/plain": [
       "PosixPath('/home/ec2-user/polus-storage/images/MaricRatBrain2019/standard/intensity')"
      ]
     },
     "execution_count": 18,
     "metadata": {},
     "output_type": "execute_result"
    }
   ],
   "source": [
    "data_new.standard.intensity.path"
   ]
  },
  {
   "cell_type": "code",
   "execution_count": 19,
   "id": "80cd7e29",
   "metadata": {},
   "outputs": [
    {
     "data": {
      "text/plain": [
       "PosixPath('/home/ec2-user/polus-storage/images/MaricRatBrain2019/subset/intensity')"
      ]
     },
     "execution_count": 19,
     "metadata": {},
     "output_type": "execute_result"
    }
   ],
   "source": [
    "data_new.subset.intensity.path"
   ]
  },
  {
   "cell_type": "markdown",
   "id": "3a0895d2",
   "metadata": {},
   "source": [
    "## Tags as list"
   ]
  },
  {
   "cell_type": "code",
   "execution_count": 20,
   "id": "b3c2f181",
   "metadata": {},
   "outputs": [
    {
     "data": {
      "text/plain": [
       "['intensity', 'fluorescence', 'phase_contrast']"
      ]
     },
     "execution_count": 20,
     "metadata": {},
     "output_type": "execute_result"
    }
   ],
   "source": [
    "data_new.standard.intensity.tags"
   ]
  }
 ],
 "metadata": {
  "kernelspec": {
   "display_name": "demo",
   "language": "python",
   "name": "demo"
  },
  "language_info": {
   "codemirror_mode": {
    "name": "ipython",
    "version": 3
   },
   "file_extension": ".py",
   "mimetype": "text/x-python",
   "name": "python",
   "nbconvert_exporter": "python",
   "pygments_lexer": "ipython3",
   "version": "3.9.7"
  }
 },
 "nbformat": 4,
 "nbformat_minor": 5
}
